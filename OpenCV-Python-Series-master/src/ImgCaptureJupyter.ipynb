version https://git-lfs.github.com/spec/v1
oid sha256:d3d31f11f564f3f1d31c77f616e62a56a3071ac6b80ad26d6e91c19b6370b7c5
size 516140686
